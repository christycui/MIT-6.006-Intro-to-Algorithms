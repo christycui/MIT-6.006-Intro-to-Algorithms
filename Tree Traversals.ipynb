{
 "cells": [
  {
   "cell_type": "markdown",
   "metadata": {},
   "source": [
    "# Inorder Traversal"
   ]
  },
  {
   "cell_type": "code",
   "execution_count": 5,
   "metadata": {},
   "outputs": [],
   "source": [
    "def inorderTraversal(self, root):\n",
    "    \"\"\"\n",
    "    :type root: TreeNode\n",
    "    :rtype: List[int]\n",
    "    \"\"\"\n",
    "    # for each node, order: node.left, node, rode.right\n",
    "    if not root:\n",
    "        return []\n",
    "    res = []\n",
    "    stack = [(root, False)]\n",
    "    while stack:\n",
    "        node, visited = stack.pop()\n",
    "        if node:\n",
    "            if visited:\n",
    "                res.append(node.val)\n",
    "            else:\n",
    "                stack.append((node.right, False))\n",
    "                stack.append((node,True))\n",
    "                stack.append((node.left, False))\n",
    "    return res"
   ]
  },
  {
   "cell_type": "markdown",
   "metadata": {},
   "source": [
    "# Preorder Traversal"
   ]
  },
  {
   "cell_type": "code",
   "execution_count": 3,
   "metadata": {},
   "outputs": [],
   "source": [
    "def preorderTraversal(root):\n",
    "    \"\"\"\n",
    "    :type root: TreeNode\n",
    "    :rtype: List[int]\n",
    "    \"\"\"\n",
    "    # for each node, order: node, node.left, node.right\n",
    "    if not root:\n",
    "        return []\n",
    "    res = []\n",
    "    stack = [root]\n",
    "    while stack:\n",
    "        node = stack.pop()\n",
    "        if node:\n",
    "            res.append(node.val)\n",
    "            stack.append(node.right)\n",
    "            stack.append(node.left)\n",
    "    return res"
   ]
  },
  {
   "cell_type": "markdown",
   "metadata": {},
   "source": [
    "# Postorder Traversal"
   ]
  },
  {
   "cell_type": "code",
   "execution_count": 4,
   "metadata": {},
   "outputs": [],
   "source": [
    "def postorderTraversal(root):\n",
    "    \"\"\"\n",
    "    :type root: TreeNode\n",
    "    :rtype: List[int]\n",
    "    \"\"\"\n",
    "    # for each node, order: node.left, node.right, node\n",
    "    if not root:\n",
    "        return []\n",
    "    res = []\n",
    "    path = [(root, False)]\n",
    "    while path:\n",
    "        node, visited = path.pop()\n",
    "        if node:\n",
    "            if visited:\n",
    "                res.append(node.val)\n",
    "            else:\n",
    "                path.append((node, True))\n",
    "                path.append((node.right, False))\n",
    "                path.append((node.left, False))\n",
    "    return res"
   ]
  },
  {
   "cell_type": "code",
   "execution_count": null,
   "metadata": {},
   "outputs": [],
   "source": []
  }
 ],
 "metadata": {
  "kernelspec": {
   "display_name": "Python 3",
   "language": "python",
   "name": "python3"
  },
  "language_info": {
   "codemirror_mode": {
    "name": "ipython",
    "version": 3
   },
   "file_extension": ".py",
   "mimetype": "text/x-python",
   "name": "python",
   "nbconvert_exporter": "python",
   "pygments_lexer": "ipython3",
   "version": "3.6.3"
  }
 },
 "nbformat": 4,
 "nbformat_minor": 2
}
