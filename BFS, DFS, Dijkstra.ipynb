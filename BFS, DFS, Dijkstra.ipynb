{
 "cells": [
  {
   "cell_type": "code",
   "execution_count": 3,
   "metadata": {},
   "outputs": [],
   "source": [
    "class Node:\n",
    "    def __init__(self, value):\n",
    "        self.value = value\n",
    "        self.neighbors = []"
   ]
  },
  {
   "cell_type": "markdown",
   "metadata": {},
   "source": [
    "# DFS\n",
    "## runtime: O(V+E)"
   ]
  },
  {
   "cell_type": "code",
   "execution_count": 15,
   "metadata": {},
   "outputs": [],
   "source": [
    "def dfs(graph):\n",
    "    parent = {}\n",
    "    for node in graph:\n",
    "        if node not in parent:\n",
    "            print('source node', node.value)\n",
    "            parent[node] = None\n",
    "            dfs_visit(graph, node, parent)\n",
    "\n",
    "def dfs_visit(graph, source_node, parent):\n",
    "    # visit all nodes from this source\n",
    "    for node in source_node.neighbors:\n",
    "        if node not in parent:\n",
    "            print('visiting node', node.value)\n",
    "            parent[node] = source_node\n",
    "            dfs_visit(graph, node, parent)"
   ]
  },
  {
   "cell_type": "code",
   "execution_count": 16,
   "metadata": {},
   "outputs": [
    {
     "name": "stdout",
     "output_type": "stream",
     "text": [
      "source node 0\n",
      "visiting node 1\n",
      "visiting node 2\n"
     ]
    }
   ],
   "source": [
    "a = Node(0)\n",
    "b = Node(1)\n",
    "c = Node(2)\n",
    "a.neighbors = [b,c]\n",
    "b.neighbors = [c]\n",
    "graph = [a,b,c]\n",
    "# run dfs\n",
    "dfs(graph)"
   ]
  },
  {
   "cell_type": "markdown",
   "metadata": {},
   "source": [
    "# Algorithm for topological sort"
   ]
  },
  {
   "cell_type": "markdown",
   "metadata": {},
   "source": [
    "1. call DFS(G) to compute finishing times v.f for each vertex v\n",
    "2. as each vertex is finished, insert it onto the front of a linked list\n",
    "3. return the linked list of vertices"
   ]
  },
  {
   "cell_type": "markdown",
   "metadata": {},
   "source": [
    "# BFS\n",
    "## runtime: O(V+E)"
   ]
  },
  {
   "cell_type": "code",
   "execution_count": 27,
   "metadata": {},
   "outputs": [],
   "source": [
    "def bfs(graph, source):\n",
    "    level = {source: 0}\n",
    "    parent = {source: None}\n",
    "    frontier = [source]\n",
    "    i = 1\n",
    "    while frontier:\n",
    "        for node in frontier:\n",
    "            next_frontier = []\n",
    "            for n in node.neighbors:\n",
    "                if n not in level:\n",
    "                    print('visiting node', n.value)\n",
    "                    level[n] = i\n",
    "                    parent[n] = node\n",
    "                    next_frontier.append(n)\n",
    "        frontier = next_frontier\n",
    "        i += 1\n",
    "    return "
   ]
  },
  {
   "cell_type": "code",
   "execution_count": 30,
   "metadata": {},
   "outputs": [
    {
     "name": "stdout",
     "output_type": "stream",
     "text": [
      "visiting node 1\n",
      "visiting node 2\n"
     ]
    }
   ],
   "source": [
    "bfs(graph, a)"
   ]
  },
  {
   "cell_type": "code",
   "execution_count": 42,
   "metadata": {},
   "outputs": [],
   "source": [
    "# path tracking bfs\n",
    "from collections import deque\n",
    "def bfs(graph, source, target):\n",
    "    path = [source]\n",
    "    visited = set([source])\n",
    "    queue = deque([path])\n",
    "    while queue:\n",
    "        current_path = queue.popleft()\n",
    "        curr = current_path[-1]\n",
    "        visited.add(curr)\n",
    "        if curr is target:\n",
    "            return current_path\n",
    "        for n in curr.neighbors:\n",
    "            if n not in visited:\n",
    "                visited.add(n)\n",
    "                next_path = current_path.copy()\n",
    "                next_path.append(n)\n",
    "                queue.append(next_path)\n",
    "    return [] # target can not be reached"
   ]
  },
  {
   "cell_type": "code",
   "execution_count": 43,
   "metadata": {},
   "outputs": [
    {
     "data": {
      "text/plain": [
       "[]"
      ]
     },
     "execution_count": 43,
     "metadata": {},
     "output_type": "execute_result"
    }
   ],
   "source": [
    "[node.value for node in bfs(graph, c, b)]"
   ]
  },
  {
   "cell_type": "code",
   "execution_count": null,
   "metadata": {},
   "outputs": [],
   "source": []
  }
 ],
 "metadata": {
  "kernelspec": {
   "display_name": "Python 3",
   "language": "python",
   "name": "python3"
  },
  "language_info": {
   "codemirror_mode": {
    "name": "ipython",
    "version": 3
   },
   "file_extension": ".py",
   "mimetype": "text/x-python",
   "name": "python",
   "nbconvert_exporter": "python",
   "pygments_lexer": "ipython3",
   "version": "3.6.3"
  }
 },
 "nbformat": 4,
 "nbformat_minor": 2
}
